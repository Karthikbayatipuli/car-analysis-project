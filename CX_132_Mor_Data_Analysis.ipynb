{
  "cells": [
    {
      "cell_type": "code",
      "execution_count": 30,
      "metadata": {
        "id": "9c04fbc5"
      },
      "outputs": [],
      "source": [
        "# import libraries\n",
        "import pandas as pd"
      ]
    },
    {
      "cell_type": "code",
      "execution_count": 31,
      "metadata": {},
      "outputs": [],
      "source": [
        "import pandas as pd"
      ]
    },
    {
      "cell_type": "code",
      "execution_count": 32,
      "metadata": {
        "colab": {
          "base_uri": "https://localhost:8080/",
          "height": 342
        },
        "id": "5a3e980e",
        "outputId": "47e00641-aa18-4bb0-e323-93cac7912d77"
      },
      "outputs": [
        {
          "data": {
            "text/html": [
              "<div>\n",
              "<style scoped>\n",
              "    .dataframe tbody tr th:only-of-type {\n",
              "        vertical-align: middle;\n",
              "    }\n",
              "\n",
              "    .dataframe tbody tr th {\n",
              "        vertical-align: top;\n",
              "    }\n",
              "\n",
              "    .dataframe thead th {\n",
              "        text-align: right;\n",
              "    }\n",
              "</style>\n",
              "<table border=\"1\" class=\"dataframe\">\n",
              "  <thead>\n",
              "    <tr style=\"text-align: right;\">\n",
              "      <th></th>\n",
              "      <th>id</th>\n",
              "      <th>Manufacturer</th>\n",
              "      <th>Model</th>\n",
              "      <th>Type</th>\n",
              "      <th>Min.Price</th>\n",
              "      <th>Price</th>\n",
              "      <th>Max.Price</th>\n",
              "      <th>MPG.city</th>\n",
              "      <th>MPG.highway</th>\n",
              "      <th>AirBags</th>\n",
              "      <th>...</th>\n",
              "      <th>Passengers</th>\n",
              "      <th>Length</th>\n",
              "      <th>Wheelbase</th>\n",
              "      <th>Width</th>\n",
              "      <th>Turn.circle</th>\n",
              "      <th>Rear.seat.room</th>\n",
              "      <th>Luggage.room</th>\n",
              "      <th>Weight</th>\n",
              "      <th>Origin</th>\n",
              "      <th>Make</th>\n",
              "    </tr>\n",
              "  </thead>\n",
              "  <tbody>\n",
              "    <tr>\n",
              "      <th>0</th>\n",
              "      <td>1</td>\n",
              "      <td>Acura</td>\n",
              "      <td>Integra</td>\n",
              "      <td>Small</td>\n",
              "      <td>12.9</td>\n",
              "      <td>15.9</td>\n",
              "      <td>18.8</td>\n",
              "      <td>25</td>\n",
              "      <td>31</td>\n",
              "      <td>NaN</td>\n",
              "      <td>...</td>\n",
              "      <td>5</td>\n",
              "      <td>177</td>\n",
              "      <td>102</td>\n",
              "      <td>68</td>\n",
              "      <td>37</td>\n",
              "      <td>26.5</td>\n",
              "      <td>11.0</td>\n",
              "      <td>2705</td>\n",
              "      <td>non-USA</td>\n",
              "      <td>Acura Integra</td>\n",
              "    </tr>\n",
              "    <tr>\n",
              "      <th>1</th>\n",
              "      <td>2</td>\n",
              "      <td>Acura</td>\n",
              "      <td>Legend</td>\n",
              "      <td>Midsize</td>\n",
              "      <td>29.2</td>\n",
              "      <td>33.9</td>\n",
              "      <td>38.7</td>\n",
              "      <td>18</td>\n",
              "      <td>25</td>\n",
              "      <td>Driver &amp; Passenger</td>\n",
              "      <td>...</td>\n",
              "      <td>5</td>\n",
              "      <td>195</td>\n",
              "      <td>115</td>\n",
              "      <td>71</td>\n",
              "      <td>38</td>\n",
              "      <td>30.0</td>\n",
              "      <td>15.0</td>\n",
              "      <td>3560</td>\n",
              "      <td>non-USA</td>\n",
              "      <td>Acura Legend</td>\n",
              "    </tr>\n",
              "    <tr>\n",
              "      <th>2</th>\n",
              "      <td>3</td>\n",
              "      <td>Audi</td>\n",
              "      <td>90</td>\n",
              "      <td>Compact</td>\n",
              "      <td>25.9</td>\n",
              "      <td>29.1</td>\n",
              "      <td>32.3</td>\n",
              "      <td>20</td>\n",
              "      <td>26</td>\n",
              "      <td>Driver only</td>\n",
              "      <td>...</td>\n",
              "      <td>5</td>\n",
              "      <td>180</td>\n",
              "      <td>102</td>\n",
              "      <td>67</td>\n",
              "      <td>37</td>\n",
              "      <td>28.0</td>\n",
              "      <td>14.0</td>\n",
              "      <td>3375</td>\n",
              "      <td>non-USA</td>\n",
              "      <td>Audi 90</td>\n",
              "    </tr>\n",
              "    <tr>\n",
              "      <th>3</th>\n",
              "      <td>4</td>\n",
              "      <td>Audi</td>\n",
              "      <td>100</td>\n",
              "      <td>Midsize</td>\n",
              "      <td>30.8</td>\n",
              "      <td>37.7</td>\n",
              "      <td>44.6</td>\n",
              "      <td>19</td>\n",
              "      <td>26</td>\n",
              "      <td>NaN</td>\n",
              "      <td>...</td>\n",
              "      <td>6</td>\n",
              "      <td>193</td>\n",
              "      <td>106</td>\n",
              "      <td>70</td>\n",
              "      <td>37</td>\n",
              "      <td>31.0</td>\n",
              "      <td>17.0</td>\n",
              "      <td>3405</td>\n",
              "      <td>non-USA</td>\n",
              "      <td>Audi 100</td>\n",
              "    </tr>\n",
              "    <tr>\n",
              "      <th>4</th>\n",
              "      <td>5</td>\n",
              "      <td>BMW</td>\n",
              "      <td>535i</td>\n",
              "      <td>Midsize</td>\n",
              "      <td>23.7</td>\n",
              "      <td>30.0</td>\n",
              "      <td>36.2</td>\n",
              "      <td>22</td>\n",
              "      <td>30</td>\n",
              "      <td>Driver only</td>\n",
              "      <td>...</td>\n",
              "      <td>4</td>\n",
              "      <td>186</td>\n",
              "      <td>109</td>\n",
              "      <td>69</td>\n",
              "      <td>39</td>\n",
              "      <td>27.0</td>\n",
              "      <td>13.0</td>\n",
              "      <td>3640</td>\n",
              "      <td>non-USA</td>\n",
              "      <td>BMW 535i</td>\n",
              "    </tr>\n",
              "  </tbody>\n",
              "</table>\n",
              "<p>5 rows × 28 columns</p>\n",
              "</div>"
            ],
            "text/plain": [
              "   id Manufacturer    Model     Type  Min.Price  Price  Max.Price  MPG.city  \\\n",
              "0   1        Acura  Integra    Small       12.9   15.9       18.8        25   \n",
              "1   2        Acura   Legend  Midsize       29.2   33.9       38.7        18   \n",
              "2   3         Audi       90  Compact       25.9   29.1       32.3        20   \n",
              "3   4         Audi      100  Midsize       30.8   37.7       44.6        19   \n",
              "4   5          BMW     535i  Midsize       23.7   30.0       36.2        22   \n",
              "\n",
              "   MPG.highway             AirBags  ... Passengers Length  Wheelbase  Width  \\\n",
              "0           31                 NaN  ...          5    177        102     68   \n",
              "1           25  Driver & Passenger  ...          5    195        115     71   \n",
              "2           26         Driver only  ...          5    180        102     67   \n",
              "3           26                 NaN  ...          6    193        106     70   \n",
              "4           30         Driver only  ...          4    186        109     69   \n",
              "\n",
              "   Turn.circle  Rear.seat.room Luggage.room  Weight   Origin           Make  \n",
              "0           37            26.5         11.0    2705  non-USA  Acura Integra  \n",
              "1           38            30.0         15.0    3560  non-USA   Acura Legend  \n",
              "2           37            28.0         14.0    3375  non-USA        Audi 90  \n",
              "3           37            31.0         17.0    3405  non-USA       Audi 100  \n",
              "4           39            27.0         13.0    3640  non-USA       BMW 535i  \n",
              "\n",
              "[5 rows x 28 columns]"
            ]
          },
          "execution_count": 32,
          "metadata": {},
          "output_type": "execute_result"
        }
      ],
      "source": [
        "# Read external file\n",
        "df=pd.read_csv(r\"C:\\car analysis\\data\\Cars93.csv\")\n",
        "df.head()"
      ]
    },
    {
      "cell_type": "code",
      "execution_count": 33,
      "metadata": {
        "colab": {
          "base_uri": "https://localhost:8080/"
        },
        "id": "bb9b838c",
        "outputId": "4ea78c8c-a3c9-4836-91ef-f14bf0ee6266"
      },
      "outputs": [
        {
          "name": "stdout",
          "output_type": "stream",
          "text": [
            "<class 'pandas.core.frame.DataFrame'>\n",
            "RangeIndex: 93 entries, 0 to 92\n",
            "Data columns (total 28 columns):\n",
            " #   Column              Non-Null Count  Dtype  \n",
            "---  ------              --------------  -----  \n",
            " 0   id                  93 non-null     int64  \n",
            " 1   Manufacturer        93 non-null     object \n",
            " 2   Model               93 non-null     object \n",
            " 3   Type                93 non-null     object \n",
            " 4   Min.Price           93 non-null     float64\n",
            " 5   Price               93 non-null     float64\n",
            " 6   Max.Price           93 non-null     float64\n",
            " 7   MPG.city            93 non-null     int64  \n",
            " 8   MPG.highway         93 non-null     int64  \n",
            " 9   AirBags             56 non-null     object \n",
            " 10  DriveTrain          93 non-null     object \n",
            " 11  Cylinders           93 non-null     object \n",
            " 12  EngineSize          93 non-null     float64\n",
            " 13  Horsepower          93 non-null     int64  \n",
            " 14  RPM                 93 non-null     int64  \n",
            " 15  Rev.per.mile        93 non-null     int64  \n",
            " 16  Man.trans.avail     93 non-null     object \n",
            " 17  Fuel.tank.capacity  93 non-null     float64\n",
            " 18  Passengers          93 non-null     int64  \n",
            " 19  Length              93 non-null     int64  \n",
            " 20  Wheelbase           93 non-null     int64  \n",
            " 21  Width               93 non-null     int64  \n",
            " 22  Turn.circle         93 non-null     int64  \n",
            " 23  Rear.seat.room      91 non-null     float64\n",
            " 24  Luggage.room        82 non-null     float64\n",
            " 25  Weight              93 non-null     int64  \n",
            " 26  Origin              93 non-null     object \n",
            " 27  Make                93 non-null     object \n",
            "dtypes: float64(7), int64(12), object(9)\n",
            "memory usage: 20.5+ KB\n"
          ]
        }
      ],
      "source": [
        "# check the info of dataset\n",
        "df.info()\n"
      ]
    },
    {
      "cell_type": "code",
      "execution_count": 34,
      "metadata": {
        "colab": {
          "base_uri": "https://localhost:8080/",
          "height": 320
        },
        "id": "v4Zu6_prM9np",
        "outputId": "41852c01-6faa-40e1-adc9-d048a0214a4e"
      },
      "outputs": [
        {
          "data": {
            "text/html": [
              "<div>\n",
              "<style scoped>\n",
              "    .dataframe tbody tr th:only-of-type {\n",
              "        vertical-align: middle;\n",
              "    }\n",
              "\n",
              "    .dataframe tbody tr th {\n",
              "        vertical-align: top;\n",
              "    }\n",
              "\n",
              "    .dataframe thead th {\n",
              "        text-align: right;\n",
              "    }\n",
              "</style>\n",
              "<table border=\"1\" class=\"dataframe\">\n",
              "  <thead>\n",
              "    <tr style=\"text-align: right;\">\n",
              "      <th></th>\n",
              "      <th>id</th>\n",
              "      <th>Min.Price</th>\n",
              "      <th>Price</th>\n",
              "      <th>Max.Price</th>\n",
              "      <th>MPG.city</th>\n",
              "      <th>MPG.highway</th>\n",
              "      <th>EngineSize</th>\n",
              "      <th>Horsepower</th>\n",
              "      <th>RPM</th>\n",
              "      <th>Rev.per.mile</th>\n",
              "      <th>Fuel.tank.capacity</th>\n",
              "      <th>Passengers</th>\n",
              "      <th>Length</th>\n",
              "      <th>Wheelbase</th>\n",
              "      <th>Width</th>\n",
              "      <th>Turn.circle</th>\n",
              "      <th>Rear.seat.room</th>\n",
              "      <th>Luggage.room</th>\n",
              "      <th>Weight</th>\n",
              "    </tr>\n",
              "  </thead>\n",
              "  <tbody>\n",
              "    <tr>\n",
              "      <th>count</th>\n",
              "      <td>93.000000</td>\n",
              "      <td>93.000000</td>\n",
              "      <td>93.000000</td>\n",
              "      <td>93.000000</td>\n",
              "      <td>93.000000</td>\n",
              "      <td>93.000000</td>\n",
              "      <td>93.000000</td>\n",
              "      <td>93.000000</td>\n",
              "      <td>93.000000</td>\n",
              "      <td>93.000000</td>\n",
              "      <td>93.000000</td>\n",
              "      <td>93.000000</td>\n",
              "      <td>93.000000</td>\n",
              "      <td>93.000000</td>\n",
              "      <td>93.000000</td>\n",
              "      <td>93.000000</td>\n",
              "      <td>91.000000</td>\n",
              "      <td>82.000000</td>\n",
              "      <td>93.000000</td>\n",
              "    </tr>\n",
              "    <tr>\n",
              "      <th>mean</th>\n",
              "      <td>47.000000</td>\n",
              "      <td>17.125806</td>\n",
              "      <td>19.509677</td>\n",
              "      <td>21.898925</td>\n",
              "      <td>22.365591</td>\n",
              "      <td>29.086022</td>\n",
              "      <td>2.667742</td>\n",
              "      <td>143.827957</td>\n",
              "      <td>5280.645161</td>\n",
              "      <td>2332.204301</td>\n",
              "      <td>16.664516</td>\n",
              "      <td>5.086022</td>\n",
              "      <td>183.204301</td>\n",
              "      <td>103.946237</td>\n",
              "      <td>69.376344</td>\n",
              "      <td>38.956989</td>\n",
              "      <td>27.829670</td>\n",
              "      <td>13.890244</td>\n",
              "      <td>3072.903226</td>\n",
              "    </tr>\n",
              "    <tr>\n",
              "      <th>std</th>\n",
              "      <td>26.990739</td>\n",
              "      <td>8.746029</td>\n",
              "      <td>9.659430</td>\n",
              "      <td>11.030457</td>\n",
              "      <td>5.619812</td>\n",
              "      <td>5.331726</td>\n",
              "      <td>1.037363</td>\n",
              "      <td>52.374410</td>\n",
              "      <td>596.731690</td>\n",
              "      <td>496.506525</td>\n",
              "      <td>3.279370</td>\n",
              "      <td>1.038979</td>\n",
              "      <td>14.602382</td>\n",
              "      <td>6.819674</td>\n",
              "      <td>3.778986</td>\n",
              "      <td>3.223265</td>\n",
              "      <td>2.989072</td>\n",
              "      <td>2.997967</td>\n",
              "      <td>589.896510</td>\n",
              "    </tr>\n",
              "    <tr>\n",
              "      <th>min</th>\n",
              "      <td>1.000000</td>\n",
              "      <td>6.700000</td>\n",
              "      <td>7.400000</td>\n",
              "      <td>7.900000</td>\n",
              "      <td>15.000000</td>\n",
              "      <td>20.000000</td>\n",
              "      <td>1.000000</td>\n",
              "      <td>55.000000</td>\n",
              "      <td>3800.000000</td>\n",
              "      <td>1320.000000</td>\n",
              "      <td>9.200000</td>\n",
              "      <td>2.000000</td>\n",
              "      <td>141.000000</td>\n",
              "      <td>90.000000</td>\n",
              "      <td>60.000000</td>\n",
              "      <td>32.000000</td>\n",
              "      <td>19.000000</td>\n",
              "      <td>6.000000</td>\n",
              "      <td>1695.000000</td>\n",
              "    </tr>\n",
              "    <tr>\n",
              "      <th>25%</th>\n",
              "      <td>24.000000</td>\n",
              "      <td>10.800000</td>\n",
              "      <td>12.200000</td>\n",
              "      <td>14.700000</td>\n",
              "      <td>18.000000</td>\n",
              "      <td>26.000000</td>\n",
              "      <td>1.800000</td>\n",
              "      <td>103.000000</td>\n",
              "      <td>4800.000000</td>\n",
              "      <td>1985.000000</td>\n",
              "      <td>14.500000</td>\n",
              "      <td>4.000000</td>\n",
              "      <td>174.000000</td>\n",
              "      <td>98.000000</td>\n",
              "      <td>67.000000</td>\n",
              "      <td>37.000000</td>\n",
              "      <td>26.000000</td>\n",
              "      <td>12.000000</td>\n",
              "      <td>2620.000000</td>\n",
              "    </tr>\n",
              "    <tr>\n",
              "      <th>50%</th>\n",
              "      <td>47.000000</td>\n",
              "      <td>14.700000</td>\n",
              "      <td>17.700000</td>\n",
              "      <td>19.600000</td>\n",
              "      <td>21.000000</td>\n",
              "      <td>28.000000</td>\n",
              "      <td>2.400000</td>\n",
              "      <td>140.000000</td>\n",
              "      <td>5200.000000</td>\n",
              "      <td>2340.000000</td>\n",
              "      <td>16.400000</td>\n",
              "      <td>5.000000</td>\n",
              "      <td>183.000000</td>\n",
              "      <td>103.000000</td>\n",
              "      <td>69.000000</td>\n",
              "      <td>39.000000</td>\n",
              "      <td>27.500000</td>\n",
              "      <td>14.000000</td>\n",
              "      <td>3040.000000</td>\n",
              "    </tr>\n",
              "    <tr>\n",
              "      <th>75%</th>\n",
              "      <td>70.000000</td>\n",
              "      <td>20.300000</td>\n",
              "      <td>23.300000</td>\n",
              "      <td>25.300000</td>\n",
              "      <td>25.000000</td>\n",
              "      <td>31.000000</td>\n",
              "      <td>3.300000</td>\n",
              "      <td>170.000000</td>\n",
              "      <td>5750.000000</td>\n",
              "      <td>2565.000000</td>\n",
              "      <td>18.800000</td>\n",
              "      <td>6.000000</td>\n",
              "      <td>192.000000</td>\n",
              "      <td>110.000000</td>\n",
              "      <td>72.000000</td>\n",
              "      <td>41.000000</td>\n",
              "      <td>30.000000</td>\n",
              "      <td>15.000000</td>\n",
              "      <td>3525.000000</td>\n",
              "    </tr>\n",
              "    <tr>\n",
              "      <th>max</th>\n",
              "      <td>93.000000</td>\n",
              "      <td>45.400000</td>\n",
              "      <td>61.900000</td>\n",
              "      <td>80.000000</td>\n",
              "      <td>46.000000</td>\n",
              "      <td>50.000000</td>\n",
              "      <td>5.700000</td>\n",
              "      <td>300.000000</td>\n",
              "      <td>6500.000000</td>\n",
              "      <td>3755.000000</td>\n",
              "      <td>27.000000</td>\n",
              "      <td>8.000000</td>\n",
              "      <td>219.000000</td>\n",
              "      <td>119.000000</td>\n",
              "      <td>78.000000</td>\n",
              "      <td>45.000000</td>\n",
              "      <td>36.000000</td>\n",
              "      <td>22.000000</td>\n",
              "      <td>4105.000000</td>\n",
              "    </tr>\n",
              "  </tbody>\n",
              "</table>\n",
              "</div>"
            ],
            "text/plain": [
              "              id  Min.Price      Price  Max.Price   MPG.city  MPG.highway  \\\n",
              "count  93.000000  93.000000  93.000000  93.000000  93.000000    93.000000   \n",
              "mean   47.000000  17.125806  19.509677  21.898925  22.365591    29.086022   \n",
              "std    26.990739   8.746029   9.659430  11.030457   5.619812     5.331726   \n",
              "min     1.000000   6.700000   7.400000   7.900000  15.000000    20.000000   \n",
              "25%    24.000000  10.800000  12.200000  14.700000  18.000000    26.000000   \n",
              "50%    47.000000  14.700000  17.700000  19.600000  21.000000    28.000000   \n",
              "75%    70.000000  20.300000  23.300000  25.300000  25.000000    31.000000   \n",
              "max    93.000000  45.400000  61.900000  80.000000  46.000000    50.000000   \n",
              "\n",
              "       EngineSize  Horsepower          RPM  Rev.per.mile  Fuel.tank.capacity  \\\n",
              "count   93.000000   93.000000    93.000000     93.000000           93.000000   \n",
              "mean     2.667742  143.827957  5280.645161   2332.204301           16.664516   \n",
              "std      1.037363   52.374410   596.731690    496.506525            3.279370   \n",
              "min      1.000000   55.000000  3800.000000   1320.000000            9.200000   \n",
              "25%      1.800000  103.000000  4800.000000   1985.000000           14.500000   \n",
              "50%      2.400000  140.000000  5200.000000   2340.000000           16.400000   \n",
              "75%      3.300000  170.000000  5750.000000   2565.000000           18.800000   \n",
              "max      5.700000  300.000000  6500.000000   3755.000000           27.000000   \n",
              "\n",
              "       Passengers      Length   Wheelbase      Width  Turn.circle  \\\n",
              "count   93.000000   93.000000   93.000000  93.000000    93.000000   \n",
              "mean     5.086022  183.204301  103.946237  69.376344    38.956989   \n",
              "std      1.038979   14.602382    6.819674   3.778986     3.223265   \n",
              "min      2.000000  141.000000   90.000000  60.000000    32.000000   \n",
              "25%      4.000000  174.000000   98.000000  67.000000    37.000000   \n",
              "50%      5.000000  183.000000  103.000000  69.000000    39.000000   \n",
              "75%      6.000000  192.000000  110.000000  72.000000    41.000000   \n",
              "max      8.000000  219.000000  119.000000  78.000000    45.000000   \n",
              "\n",
              "       Rear.seat.room  Luggage.room       Weight  \n",
              "count       91.000000     82.000000    93.000000  \n",
              "mean        27.829670     13.890244  3072.903226  \n",
              "std          2.989072      2.997967   589.896510  \n",
              "min         19.000000      6.000000  1695.000000  \n",
              "25%         26.000000     12.000000  2620.000000  \n",
              "50%         27.500000     14.000000  3040.000000  \n",
              "75%         30.000000     15.000000  3525.000000  \n",
              "max         36.000000     22.000000  4105.000000  "
            ]
          },
          "execution_count": 34,
          "metadata": {},
          "output_type": "execute_result"
        }
      ],
      "source": [
        "# check the statistical details\n",
        "df.describe()"
      ]
    },
    {
      "cell_type": "code",
      "execution_count": 35,
      "metadata": {
        "colab": {
          "base_uri": "https://localhost:8080/",
          "height": 962
        },
        "id": "0047a3b5",
        "outputId": "3059d251-64a6-4282-9962-a9c376b4f6de"
      },
      "outputs": [
        {
          "data": {
            "text/plain": [
              "id                     0\n",
              "Manufacturer           0\n",
              "Model                  0\n",
              "Type                   0\n",
              "Min.Price              0\n",
              "Price                  0\n",
              "Max.Price              0\n",
              "MPG.city               0\n",
              "MPG.highway            0\n",
              "AirBags               37\n",
              "DriveTrain             0\n",
              "Cylinders              0\n",
              "EngineSize             0\n",
              "Horsepower             0\n",
              "RPM                    0\n",
              "Rev.per.mile           0\n",
              "Man.trans.avail        0\n",
              "Fuel.tank.capacity     0\n",
              "Passengers             0\n",
              "Length                 0\n",
              "Wheelbase              0\n",
              "Width                  0\n",
              "Turn.circle            0\n",
              "Rear.seat.room         2\n",
              "Luggage.room          11\n",
              "Weight                 0\n",
              "Origin                 0\n",
              "Make                   0\n",
              "dtype: int64"
            ]
          },
          "execution_count": 35,
          "metadata": {},
          "output_type": "execute_result"
        }
      ],
      "source": [
        "# check for null values\n",
        "df.isnull().sum()"
      ]
    },
    {
      "cell_type": "code",
      "execution_count": 36,
      "metadata": {
        "colab": {
          "base_uri": "https://localhost:8080/"
        },
        "id": "0f7c0a3e",
        "outputId": "4ce1c3f5-c7e6-4a60-a75e-4cc5eceafddf"
      },
      "outputs": [
        {
          "data": {
            "text/plain": [
              "Index(['id', 'Manufacturer', 'Model', 'Type', 'Min.Price', 'Price',\n",
              "       'Max.Price', 'MPG.city', 'MPG.highway', 'AirBags', 'DriveTrain',\n",
              "       'Cylinders', 'EngineSize', 'Horsepower', 'RPM', 'Rev.per.mile',\n",
              "       'Man.trans.avail', 'Fuel.tank.capacity', 'Passengers', 'Length',\n",
              "       'Wheelbase', 'Width', 'Turn.circle', 'Rear.seat.room', 'Luggage.room',\n",
              "       'Weight', 'Origin', 'Make'],\n",
              "      dtype='object')"
            ]
          },
          "execution_count": 36,
          "metadata": {},
          "output_type": "execute_result"
        }
      ],
      "source": [
        "# display columns\n",
        "df.columns"
      ]
    },
    {
      "cell_type": "code",
      "execution_count": 37,
      "metadata": {
        "colab": {
          "base_uri": "https://localhost:8080/"
        },
        "id": "mnGAAzXWOBj9",
        "outputId": "c35db6eb-6fca-4177-c76a-139652245ceb"
      },
      "outputs": [
        {
          "name": "stdout",
          "output_type": "stream",
          "text": [
            "[nan 'Driver & Passenger' 'Driver only']\n"
          ]
        },
        {
          "data": {
            "text/plain": [
              "2"
            ]
          },
          "execution_count": 37,
          "metadata": {},
          "output_type": "execute_result"
        }
      ],
      "source": [
        "# unique(), nunique()\n",
        "print(df['AirBags'].unique())\n",
        "df['AirBags'].nunique()"
      ]
    },
    {
      "cell_type": "code",
      "execution_count": 38,
      "metadata": {
        "colab": {
          "base_uri": "https://localhost:8080/",
          "height": 178
        },
        "id": "kioZpNPdSdbW",
        "outputId": "f545819c-975a-4f2e-c80a-d9abaa58d185"
      },
      "outputs": [
        {
          "data": {
            "text/plain": [
              "AirBags\n",
              "Driver only           42\n",
              "Driver & Passenger    14\n",
              "Name: count, dtype: int64"
            ]
          },
          "execution_count": 38,
          "metadata": {},
          "output_type": "execute_result"
        }
      ],
      "source": [
        "df['AirBags'].value_counts()"
      ]
    },
    {
      "cell_type": "code",
      "execution_count": 39,
      "metadata": {
        "colab": {
          "base_uri": "https://localhost:8080/",
          "height": 178
        },
        "id": "eQXR1cZzOjwx",
        "outputId": "a2941238-6eaa-45a3-a2a2-3a2d5aa9e343"
      },
      "outputs": [
        {
          "data": {
            "text/plain": [
              "Origin\n",
              "USA        48\n",
              "non-USA    45\n",
              "Name: count, dtype: int64"
            ]
          },
          "execution_count": 39,
          "metadata": {},
          "output_type": "execute_result"
        }
      ],
      "source": [
        "# value_counts()\n",
        "df['Origin'].value_counts()"
      ]
    },
    {
      "cell_type": "code",
      "execution_count": 40,
      "metadata": {
        "colab": {
          "base_uri": "https://localhost:8080/",
          "height": 209
        },
        "id": "2DM9f9iKO1SX",
        "outputId": "3ffcb3a1-f3ff-4955-9b61-d3c3d97cb8b5"
      },
      "outputs": [
        {
          "data": {
            "text/plain": [
              "DriveTrain\n",
              "Front    67\n",
              "Rear     16\n",
              "4WD      10\n",
              "Name: count, dtype: int64"
            ]
          },
          "execution_count": 40,
          "metadata": {},
          "output_type": "execute_result"
        }
      ],
      "source": [
        "df['DriveTrain'].value_counts()"
      ]
    },
    {
      "cell_type": "code",
      "execution_count": 41,
      "metadata": {
        "colab": {
          "base_uri": "https://localhost:8080/",
          "height": 1000
        },
        "id": "iJT0d9ahPFzA",
        "outputId": "383b7d20-5a09-42ff-b942-5784598dd0dd"
      },
      "outputs": [
        {
          "data": {
            "text/plain": [
              "Manufacturer\n",
              "Chevrolet        8\n",
              "Ford             8\n",
              "Dodge            6\n",
              "Mazda            5\n",
              "Pontiac          5\n",
              "Oldsmobile       4\n",
              "Hyundai          4\n",
              "Buick            4\n",
              "Nissan           4\n",
              "Toyota           4\n",
              "Volkswagen       4\n",
              "Subaru           3\n",
              "Honda            3\n",
              "Geo              2\n",
              "Audi             2\n",
              "Acura            2\n",
              "Volvo            2\n",
              "Mitsubishi       2\n",
              "Mercedes-Benz    2\n",
              "Lexus            2\n",
              "Chrysler         2\n",
              "Cadillac         2\n",
              "Eagle            2\n",
              "Lincoln          2\n",
              "Mercury          2\n",
              "Infiniti         1\n",
              "BMW              1\n",
              "Chrylser         1\n",
              "Plymouth         1\n",
              "Saab             1\n",
              "Saturn           1\n",
              "Suzuki           1\n",
              "Name: count, dtype: int64"
            ]
          },
          "execution_count": 41,
          "metadata": {},
          "output_type": "execute_result"
        }
      ],
      "source": [
        "df['Manufacturer'].value_counts()"
      ]
    },
    {
      "cell_type": "code",
      "execution_count": 42,
      "metadata": {
        "colab": {
          "base_uri": "https://localhost:8080/",
          "height": 489
        },
        "id": "V7Py-L5CPOGt",
        "outputId": "cd607bb1-e7a3-4cf0-dd15-868f6ec5279e"
      },
      "outputs": [
        {
          "data": {
            "text/plain": [
              "Make\n",
              "Acura Integra         1\n",
              "Acura Legend          1\n",
              "Audi 90               1\n",
              "Audi 100              1\n",
              "BMW 535i              1\n",
              "                     ..\n",
              "Volkswagen Eurovan    1\n",
              "Volkswagen Passat     1\n",
              "Volkswagen Corrado    1\n",
              "Volvo 240             1\n",
              "Volvo 850             1\n",
              "Name: count, Length: 93, dtype: int64"
            ]
          },
          "execution_count": 42,
          "metadata": {},
          "output_type": "execute_result"
        }
      ],
      "source": [
        "df['Make'].value_counts()"
      ]
    },
    {
      "cell_type": "code",
      "execution_count": 43,
      "metadata": {
        "colab": {
          "base_uri": "https://localhost:8080/"
        },
        "id": "2CNRDxVTPxD8",
        "outputId": "6df03a4a-9d21-4328-ac5e-539b1b53508b"
      },
      "outputs": [
        {
          "name": "stdout",
          "output_type": "stream",
          "text": [
            "Manufacturer\n",
            "Model\n",
            "Type\n",
            "AirBags\n",
            "DriveTrain\n",
            "Cylinders\n",
            "Man.trans.avail\n",
            "Origin\n",
            "Make\n"
          ]
        }
      ],
      "source": [
        "for i in df.columns:\n",
        "  if(df[i].dtype=='object'):\n",
        "    print(i)"
      ]
    },
    {
      "cell_type": "code",
      "execution_count": 44,
      "metadata": {
        "colab": {
          "base_uri": "https://localhost:8080/"
        },
        "id": "e1ad2540",
        "outputId": "1059e72a-5fd9-47d5-fed3-2f2e8d315a88"
      },
      "outputs": [
        {
          "name": "stdout",
          "output_type": "stream",
          "text": [
            "Categorical list= ['Manufacturer', 'Model', 'Type', 'AirBags', 'DriveTrain', 'Cylinders', 'Man.trans.avail', 'Origin', 'Make'] \n",
            " Continuous list= ['id', 'Min.Price', 'Price', 'Max.Price', 'MPG.city', 'MPG.highway', 'EngineSize', 'Horsepower', 'RPM', 'Rev.per.mile', 'Fuel.tank.capacity', 'Passengers', 'Length', 'Wheelbase', 'Width', 'Turn.circle', 'Rear.seat.room', 'Luggage.room', 'Weight']\n"
          ]
        }
      ],
      "source": [
        "# Seggregate data in categorical and continuous type\n",
        "cat=[]\n",
        "con=[]\n",
        "\n",
        "# Display categorical values\n",
        "for i in df.columns:\n",
        "  if df[i].dtypes=='object':\n",
        "    cat.append(i)\n",
        "  else:\n",
        "    con.append(i)\n",
        "\n",
        "# display continuous values\n",
        "\n",
        "print(\"Categorical list=\",cat,\"\\n\",\"Continuous list=\",con)"
      ]
    },
    {
      "cell_type": "code",
      "execution_count": 45,
      "metadata": {
        "colab": {
          "base_uri": "https://localhost:8080/",
          "height": 423
        },
        "id": "I2dnUH_WRkyY",
        "outputId": "44e50872-d31a-46b1-97db-428de7a8b87f"
      },
      "outputs": [
        {
          "data": {
            "text/html": [
              "<div>\n",
              "<style scoped>\n",
              "    .dataframe tbody tr th:only-of-type {\n",
              "        vertical-align: middle;\n",
              "    }\n",
              "\n",
              "    .dataframe tbody tr th {\n",
              "        vertical-align: top;\n",
              "    }\n",
              "\n",
              "    .dataframe thead th {\n",
              "        text-align: right;\n",
              "    }\n",
              "</style>\n",
              "<table border=\"1\" class=\"dataframe\">\n",
              "  <thead>\n",
              "    <tr style=\"text-align: right;\">\n",
              "      <th></th>\n",
              "      <th>Manufacturer</th>\n",
              "      <th>Model</th>\n",
              "      <th>Type</th>\n",
              "      <th>AirBags</th>\n",
              "      <th>DriveTrain</th>\n",
              "      <th>Cylinders</th>\n",
              "      <th>Man.trans.avail</th>\n",
              "      <th>Origin</th>\n",
              "      <th>Make</th>\n",
              "    </tr>\n",
              "  </thead>\n",
              "  <tbody>\n",
              "    <tr>\n",
              "      <th>0</th>\n",
              "      <td>Acura</td>\n",
              "      <td>Integra</td>\n",
              "      <td>Small</td>\n",
              "      <td>NaN</td>\n",
              "      <td>Front</td>\n",
              "      <td>4</td>\n",
              "      <td>Yes</td>\n",
              "      <td>non-USA</td>\n",
              "      <td>Acura Integra</td>\n",
              "    </tr>\n",
              "    <tr>\n",
              "      <th>1</th>\n",
              "      <td>Acura</td>\n",
              "      <td>Legend</td>\n",
              "      <td>Midsize</td>\n",
              "      <td>Driver &amp; Passenger</td>\n",
              "      <td>Front</td>\n",
              "      <td>6</td>\n",
              "      <td>Yes</td>\n",
              "      <td>non-USA</td>\n",
              "      <td>Acura Legend</td>\n",
              "    </tr>\n",
              "    <tr>\n",
              "      <th>2</th>\n",
              "      <td>Audi</td>\n",
              "      <td>90</td>\n",
              "      <td>Compact</td>\n",
              "      <td>Driver only</td>\n",
              "      <td>Front</td>\n",
              "      <td>6</td>\n",
              "      <td>Yes</td>\n",
              "      <td>non-USA</td>\n",
              "      <td>Audi 90</td>\n",
              "    </tr>\n",
              "    <tr>\n",
              "      <th>3</th>\n",
              "      <td>Audi</td>\n",
              "      <td>100</td>\n",
              "      <td>Midsize</td>\n",
              "      <td>NaN</td>\n",
              "      <td>Front</td>\n",
              "      <td>6</td>\n",
              "      <td>Yes</td>\n",
              "      <td>non-USA</td>\n",
              "      <td>Audi 100</td>\n",
              "    </tr>\n",
              "    <tr>\n",
              "      <th>4</th>\n",
              "      <td>BMW</td>\n",
              "      <td>535i</td>\n",
              "      <td>Midsize</td>\n",
              "      <td>Driver only</td>\n",
              "      <td>Rear</td>\n",
              "      <td>4</td>\n",
              "      <td>Yes</td>\n",
              "      <td>non-USA</td>\n",
              "      <td>BMW 535i</td>\n",
              "    </tr>\n",
              "    <tr>\n",
              "      <th>...</th>\n",
              "      <td>...</td>\n",
              "      <td>...</td>\n",
              "      <td>...</td>\n",
              "      <td>...</td>\n",
              "      <td>...</td>\n",
              "      <td>...</td>\n",
              "      <td>...</td>\n",
              "      <td>...</td>\n",
              "      <td>...</td>\n",
              "    </tr>\n",
              "    <tr>\n",
              "      <th>88</th>\n",
              "      <td>Volkswagen</td>\n",
              "      <td>Eurovan</td>\n",
              "      <td>Van</td>\n",
              "      <td>NaN</td>\n",
              "      <td>Front</td>\n",
              "      <td>5</td>\n",
              "      <td>Yes</td>\n",
              "      <td>non-USA</td>\n",
              "      <td>Volkswagen Eurovan</td>\n",
              "    </tr>\n",
              "    <tr>\n",
              "      <th>89</th>\n",
              "      <td>Volkswagen</td>\n",
              "      <td>Passat</td>\n",
              "      <td>Compact</td>\n",
              "      <td>NaN</td>\n",
              "      <td>Front</td>\n",
              "      <td>4</td>\n",
              "      <td>Yes</td>\n",
              "      <td>non-USA</td>\n",
              "      <td>Volkswagen Passat</td>\n",
              "    </tr>\n",
              "    <tr>\n",
              "      <th>90</th>\n",
              "      <td>Volkswagen</td>\n",
              "      <td>Corrado</td>\n",
              "      <td>Sporty</td>\n",
              "      <td>NaN</td>\n",
              "      <td>Front</td>\n",
              "      <td>6</td>\n",
              "      <td>Yes</td>\n",
              "      <td>non-USA</td>\n",
              "      <td>Volkswagen Corrado</td>\n",
              "    </tr>\n",
              "    <tr>\n",
              "      <th>91</th>\n",
              "      <td>Volvo</td>\n",
              "      <td>240</td>\n",
              "      <td>Compact</td>\n",
              "      <td>Driver only</td>\n",
              "      <td>Rear</td>\n",
              "      <td>4</td>\n",
              "      <td>Yes</td>\n",
              "      <td>non-USA</td>\n",
              "      <td>Volvo 240</td>\n",
              "    </tr>\n",
              "    <tr>\n",
              "      <th>92</th>\n",
              "      <td>Volvo</td>\n",
              "      <td>850</td>\n",
              "      <td>Midsize</td>\n",
              "      <td>Driver &amp; Passenger</td>\n",
              "      <td>Front</td>\n",
              "      <td>5</td>\n",
              "      <td>Yes</td>\n",
              "      <td>non-USA</td>\n",
              "      <td>Volvo 850</td>\n",
              "    </tr>\n",
              "  </tbody>\n",
              "</table>\n",
              "<p>93 rows × 9 columns</p>\n",
              "</div>"
            ],
            "text/plain": [
              "   Manufacturer    Model     Type             AirBags DriveTrain Cylinders  \\\n",
              "0         Acura  Integra    Small                 NaN      Front         4   \n",
              "1         Acura   Legend  Midsize  Driver & Passenger      Front         6   \n",
              "2          Audi       90  Compact         Driver only      Front         6   \n",
              "3          Audi      100  Midsize                 NaN      Front         6   \n",
              "4           BMW     535i  Midsize         Driver only       Rear         4   \n",
              "..          ...      ...      ...                 ...        ...       ...   \n",
              "88   Volkswagen  Eurovan      Van                 NaN      Front         5   \n",
              "89   Volkswagen   Passat  Compact                 NaN      Front         4   \n",
              "90   Volkswagen  Corrado   Sporty                 NaN      Front         6   \n",
              "91        Volvo      240  Compact         Driver only       Rear         4   \n",
              "92        Volvo      850  Midsize  Driver & Passenger      Front         5   \n",
              "\n",
              "   Man.trans.avail   Origin                Make  \n",
              "0              Yes  non-USA       Acura Integra  \n",
              "1              Yes  non-USA        Acura Legend  \n",
              "2              Yes  non-USA             Audi 90  \n",
              "3              Yes  non-USA            Audi 100  \n",
              "4              Yes  non-USA            BMW 535i  \n",
              "..             ...      ...                 ...  \n",
              "88             Yes  non-USA  Volkswagen Eurovan  \n",
              "89             Yes  non-USA   Volkswagen Passat  \n",
              "90             Yes  non-USA  Volkswagen Corrado  \n",
              "91             Yes  non-USA           Volvo 240  \n",
              "92             Yes  non-USA           Volvo 850  \n",
              "\n",
              "[93 rows x 9 columns]"
            ]
          },
          "execution_count": 45,
          "metadata": {},
          "output_type": "execute_result"
        }
      ],
      "source": [
        "# seggragating dataframe based on type\n",
        "catdf=df.select_dtypes(include='object')\n",
        "catdf"
      ]
    },
    {
      "cell_type": "code",
      "execution_count": 46,
      "metadata": {
        "colab": {
          "base_uri": "https://localhost:8080/",
          "height": 443
        },
        "id": "728oeYSoSGa4",
        "outputId": "ebc16d37-bddf-47a4-ed1e-5a99d42cd465"
      },
      "outputs": [
        {
          "data": {
            "text/html": [
              "<div>\n",
              "<style scoped>\n",
              "    .dataframe tbody tr th:only-of-type {\n",
              "        vertical-align: middle;\n",
              "    }\n",
              "\n",
              "    .dataframe tbody tr th {\n",
              "        vertical-align: top;\n",
              "    }\n",
              "\n",
              "    .dataframe thead th {\n",
              "        text-align: right;\n",
              "    }\n",
              "</style>\n",
              "<table border=\"1\" class=\"dataframe\">\n",
              "  <thead>\n",
              "    <tr style=\"text-align: right;\">\n",
              "      <th></th>\n",
              "      <th>id</th>\n",
              "      <th>Min.Price</th>\n",
              "      <th>Price</th>\n",
              "      <th>Max.Price</th>\n",
              "      <th>MPG.city</th>\n",
              "      <th>MPG.highway</th>\n",
              "      <th>EngineSize</th>\n",
              "      <th>Horsepower</th>\n",
              "      <th>RPM</th>\n",
              "      <th>Rev.per.mile</th>\n",
              "      <th>Fuel.tank.capacity</th>\n",
              "      <th>Passengers</th>\n",
              "      <th>Length</th>\n",
              "      <th>Wheelbase</th>\n",
              "      <th>Width</th>\n",
              "      <th>Turn.circle</th>\n",
              "      <th>Rear.seat.room</th>\n",
              "      <th>Luggage.room</th>\n",
              "      <th>Weight</th>\n",
              "    </tr>\n",
              "  </thead>\n",
              "  <tbody>\n",
              "    <tr>\n",
              "      <th>0</th>\n",
              "      <td>1</td>\n",
              "      <td>12.9</td>\n",
              "      <td>15.9</td>\n",
              "      <td>18.8</td>\n",
              "      <td>25</td>\n",
              "      <td>31</td>\n",
              "      <td>1.8</td>\n",
              "      <td>140</td>\n",
              "      <td>6300</td>\n",
              "      <td>2890</td>\n",
              "      <td>13.2</td>\n",
              "      <td>5</td>\n",
              "      <td>177</td>\n",
              "      <td>102</td>\n",
              "      <td>68</td>\n",
              "      <td>37</td>\n",
              "      <td>26.5</td>\n",
              "      <td>11.0</td>\n",
              "      <td>2705</td>\n",
              "    </tr>\n",
              "    <tr>\n",
              "      <th>1</th>\n",
              "      <td>2</td>\n",
              "      <td>29.2</td>\n",
              "      <td>33.9</td>\n",
              "      <td>38.7</td>\n",
              "      <td>18</td>\n",
              "      <td>25</td>\n",
              "      <td>3.2</td>\n",
              "      <td>200</td>\n",
              "      <td>5500</td>\n",
              "      <td>2335</td>\n",
              "      <td>18.0</td>\n",
              "      <td>5</td>\n",
              "      <td>195</td>\n",
              "      <td>115</td>\n",
              "      <td>71</td>\n",
              "      <td>38</td>\n",
              "      <td>30.0</td>\n",
              "      <td>15.0</td>\n",
              "      <td>3560</td>\n",
              "    </tr>\n",
              "    <tr>\n",
              "      <th>2</th>\n",
              "      <td>3</td>\n",
              "      <td>25.9</td>\n",
              "      <td>29.1</td>\n",
              "      <td>32.3</td>\n",
              "      <td>20</td>\n",
              "      <td>26</td>\n",
              "      <td>2.8</td>\n",
              "      <td>172</td>\n",
              "      <td>5500</td>\n",
              "      <td>2280</td>\n",
              "      <td>16.9</td>\n",
              "      <td>5</td>\n",
              "      <td>180</td>\n",
              "      <td>102</td>\n",
              "      <td>67</td>\n",
              "      <td>37</td>\n",
              "      <td>28.0</td>\n",
              "      <td>14.0</td>\n",
              "      <td>3375</td>\n",
              "    </tr>\n",
              "    <tr>\n",
              "      <th>3</th>\n",
              "      <td>4</td>\n",
              "      <td>30.8</td>\n",
              "      <td>37.7</td>\n",
              "      <td>44.6</td>\n",
              "      <td>19</td>\n",
              "      <td>26</td>\n",
              "      <td>2.8</td>\n",
              "      <td>172</td>\n",
              "      <td>5500</td>\n",
              "      <td>2535</td>\n",
              "      <td>21.1</td>\n",
              "      <td>6</td>\n",
              "      <td>193</td>\n",
              "      <td>106</td>\n",
              "      <td>70</td>\n",
              "      <td>37</td>\n",
              "      <td>31.0</td>\n",
              "      <td>17.0</td>\n",
              "      <td>3405</td>\n",
              "    </tr>\n",
              "    <tr>\n",
              "      <th>4</th>\n",
              "      <td>5</td>\n",
              "      <td>23.7</td>\n",
              "      <td>30.0</td>\n",
              "      <td>36.2</td>\n",
              "      <td>22</td>\n",
              "      <td>30</td>\n",
              "      <td>3.5</td>\n",
              "      <td>208</td>\n",
              "      <td>5700</td>\n",
              "      <td>2545</td>\n",
              "      <td>21.1</td>\n",
              "      <td>4</td>\n",
              "      <td>186</td>\n",
              "      <td>109</td>\n",
              "      <td>69</td>\n",
              "      <td>39</td>\n",
              "      <td>27.0</td>\n",
              "      <td>13.0</td>\n",
              "      <td>3640</td>\n",
              "    </tr>\n",
              "    <tr>\n",
              "      <th>...</th>\n",
              "      <td>...</td>\n",
              "      <td>...</td>\n",
              "      <td>...</td>\n",
              "      <td>...</td>\n",
              "      <td>...</td>\n",
              "      <td>...</td>\n",
              "      <td>...</td>\n",
              "      <td>...</td>\n",
              "      <td>...</td>\n",
              "      <td>...</td>\n",
              "      <td>...</td>\n",
              "      <td>...</td>\n",
              "      <td>...</td>\n",
              "      <td>...</td>\n",
              "      <td>...</td>\n",
              "      <td>...</td>\n",
              "      <td>...</td>\n",
              "      <td>...</td>\n",
              "      <td>...</td>\n",
              "    </tr>\n",
              "    <tr>\n",
              "      <th>88</th>\n",
              "      <td>89</td>\n",
              "      <td>16.6</td>\n",
              "      <td>19.7</td>\n",
              "      <td>22.7</td>\n",
              "      <td>17</td>\n",
              "      <td>21</td>\n",
              "      <td>2.5</td>\n",
              "      <td>109</td>\n",
              "      <td>4500</td>\n",
              "      <td>2915</td>\n",
              "      <td>21.1</td>\n",
              "      <td>7</td>\n",
              "      <td>187</td>\n",
              "      <td>115</td>\n",
              "      <td>72</td>\n",
              "      <td>38</td>\n",
              "      <td>34.0</td>\n",
              "      <td>NaN</td>\n",
              "      <td>3960</td>\n",
              "    </tr>\n",
              "    <tr>\n",
              "      <th>89</th>\n",
              "      <td>90</td>\n",
              "      <td>17.6</td>\n",
              "      <td>20.0</td>\n",
              "      <td>22.4</td>\n",
              "      <td>21</td>\n",
              "      <td>30</td>\n",
              "      <td>2.0</td>\n",
              "      <td>134</td>\n",
              "      <td>5800</td>\n",
              "      <td>2685</td>\n",
              "      <td>18.5</td>\n",
              "      <td>5</td>\n",
              "      <td>180</td>\n",
              "      <td>103</td>\n",
              "      <td>67</td>\n",
              "      <td>35</td>\n",
              "      <td>31.5</td>\n",
              "      <td>14.0</td>\n",
              "      <td>2985</td>\n",
              "    </tr>\n",
              "    <tr>\n",
              "      <th>90</th>\n",
              "      <td>91</td>\n",
              "      <td>22.9</td>\n",
              "      <td>23.3</td>\n",
              "      <td>23.7</td>\n",
              "      <td>18</td>\n",
              "      <td>25</td>\n",
              "      <td>2.8</td>\n",
              "      <td>178</td>\n",
              "      <td>5800</td>\n",
              "      <td>2385</td>\n",
              "      <td>18.5</td>\n",
              "      <td>4</td>\n",
              "      <td>159</td>\n",
              "      <td>97</td>\n",
              "      <td>66</td>\n",
              "      <td>36</td>\n",
              "      <td>26.0</td>\n",
              "      <td>15.0</td>\n",
              "      <td>2810</td>\n",
              "    </tr>\n",
              "    <tr>\n",
              "      <th>91</th>\n",
              "      <td>92</td>\n",
              "      <td>21.8</td>\n",
              "      <td>22.7</td>\n",
              "      <td>23.5</td>\n",
              "      <td>21</td>\n",
              "      <td>28</td>\n",
              "      <td>2.3</td>\n",
              "      <td>114</td>\n",
              "      <td>5400</td>\n",
              "      <td>2215</td>\n",
              "      <td>15.8</td>\n",
              "      <td>5</td>\n",
              "      <td>190</td>\n",
              "      <td>104</td>\n",
              "      <td>67</td>\n",
              "      <td>37</td>\n",
              "      <td>29.5</td>\n",
              "      <td>14.0</td>\n",
              "      <td>2985</td>\n",
              "    </tr>\n",
              "    <tr>\n",
              "      <th>92</th>\n",
              "      <td>93</td>\n",
              "      <td>24.8</td>\n",
              "      <td>26.7</td>\n",
              "      <td>28.5</td>\n",
              "      <td>20</td>\n",
              "      <td>28</td>\n",
              "      <td>2.4</td>\n",
              "      <td>168</td>\n",
              "      <td>6200</td>\n",
              "      <td>2310</td>\n",
              "      <td>19.3</td>\n",
              "      <td>5</td>\n",
              "      <td>184</td>\n",
              "      <td>105</td>\n",
              "      <td>69</td>\n",
              "      <td>38</td>\n",
              "      <td>30.0</td>\n",
              "      <td>15.0</td>\n",
              "      <td>3245</td>\n",
              "    </tr>\n",
              "  </tbody>\n",
              "</table>\n",
              "<p>93 rows × 19 columns</p>\n",
              "</div>"
            ],
            "text/plain": [
              "    id  Min.Price  Price  Max.Price  MPG.city  MPG.highway  EngineSize  \\\n",
              "0    1       12.9   15.9       18.8        25           31         1.8   \n",
              "1    2       29.2   33.9       38.7        18           25         3.2   \n",
              "2    3       25.9   29.1       32.3        20           26         2.8   \n",
              "3    4       30.8   37.7       44.6        19           26         2.8   \n",
              "4    5       23.7   30.0       36.2        22           30         3.5   \n",
              "..  ..        ...    ...        ...       ...          ...         ...   \n",
              "88  89       16.6   19.7       22.7        17           21         2.5   \n",
              "89  90       17.6   20.0       22.4        21           30         2.0   \n",
              "90  91       22.9   23.3       23.7        18           25         2.8   \n",
              "91  92       21.8   22.7       23.5        21           28         2.3   \n",
              "92  93       24.8   26.7       28.5        20           28         2.4   \n",
              "\n",
              "    Horsepower   RPM  Rev.per.mile  Fuel.tank.capacity  Passengers  Length  \\\n",
              "0          140  6300          2890                13.2           5     177   \n",
              "1          200  5500          2335                18.0           5     195   \n",
              "2          172  5500          2280                16.9           5     180   \n",
              "3          172  5500          2535                21.1           6     193   \n",
              "4          208  5700          2545                21.1           4     186   \n",
              "..         ...   ...           ...                 ...         ...     ...   \n",
              "88         109  4500          2915                21.1           7     187   \n",
              "89         134  5800          2685                18.5           5     180   \n",
              "90         178  5800          2385                18.5           4     159   \n",
              "91         114  5400          2215                15.8           5     190   \n",
              "92         168  6200          2310                19.3           5     184   \n",
              "\n",
              "    Wheelbase  Width  Turn.circle  Rear.seat.room  Luggage.room  Weight  \n",
              "0         102     68           37            26.5          11.0    2705  \n",
              "1         115     71           38            30.0          15.0    3560  \n",
              "2         102     67           37            28.0          14.0    3375  \n",
              "3         106     70           37            31.0          17.0    3405  \n",
              "4         109     69           39            27.0          13.0    3640  \n",
              "..        ...    ...          ...             ...           ...     ...  \n",
              "88        115     72           38            34.0           NaN    3960  \n",
              "89        103     67           35            31.5          14.0    2985  \n",
              "90         97     66           36            26.0          15.0    2810  \n",
              "91        104     67           37            29.5          14.0    2985  \n",
              "92        105     69           38            30.0          15.0    3245  \n",
              "\n",
              "[93 rows x 19 columns]"
            ]
          },
          "execution_count": 46,
          "metadata": {},
          "output_type": "execute_result"
        }
      ],
      "source": [
        "condf=df.select_dtypes(exclude='object')\n",
        "condf"
      ]
    },
    {
      "cell_type": "markdown",
      "metadata": {
        "id": "8pITQDArZJWs"
      },
      "source": [
        "Handle Missing Values"
      ]
    },
    {
      "cell_type": "code",
      "execution_count": 47,
      "metadata": {
        "colab": {
          "base_uri": "https://localhost:8080/",
          "height": 115
        },
        "id": "BLEKVOTpTMgc",
        "outputId": "a0320a3f-b148-468a-e112-8e62065b897e"
      },
      "outputs": [
        {
          "data": {
            "text/plain": [
              "0    Driver only\n",
              "Name: AirBags, dtype: object"
            ]
          },
          "execution_count": 47,
          "metadata": {},
          "output_type": "execute_result"
        }
      ],
      "source": [
        "df['AirBags'].mode()"
      ]
    },
    {
      "cell_type": "code",
      "execution_count": 48,
      "metadata": {
        "id": "21JsdQ4HZOGO"
      },
      "outputs": [],
      "source": [
        "# Check for missing values\n",
        "df.isnull().sum()\n",
        "\n",
        "# Fill missing values\n",
        "for i in df.columns:\n",
        "  if df[i].dtype=='object':\n",
        "    m=df[i].mode()[0]\n",
        "    df[i]=df[i].fillna(m)\n",
        "  else:\n",
        "    me=df[i].mean()\n",
        "    df[i]=df[i].fillna(me)\n",
        "\n",
        "# Drop missing rows\n",
        "# df['col].dropna(axis=1)\n",
        "\n",
        "# Remove duplicates\n"
      ]
    },
    {
      "cell_type": "code",
      "execution_count": null,
      "metadata": {
        "id": "H4bQ-GBQfxma"
      },
      "outputs": [],
      "source": [
        "clean_df=df"
      ]
    },
    {
      "cell_type": "code",
      "execution_count": 50,
      "metadata": {
        "id": "TYUgGfU8fzfl"
      },
      "outputs": [],
      "source": [
        "clean_df=df\n"
      ]
    },
    {
      "cell_type": "code",
      "execution_count": 51,
      "metadata": {
        "colab": {
          "base_uri": "https://localhost:8080/",
          "height": 962
        },
        "id": "nUx6CWVaUvYX",
        "outputId": "875a7e63-bcd9-4335-bf2c-1e636af63f99"
      },
      "outputs": [
        {
          "data": {
            "text/plain": [
              "id                    0\n",
              "Manufacturer          0\n",
              "Model                 0\n",
              "Type                  0\n",
              "Min.Price             0\n",
              "Price                 0\n",
              "Max.Price             0\n",
              "MPG.city              0\n",
              "MPG.highway           0\n",
              "AirBags               0\n",
              "DriveTrain            0\n",
              "Cylinders             0\n",
              "EngineSize            0\n",
              "Horsepower            0\n",
              "RPM                   0\n",
              "Rev.per.mile          0\n",
              "Man.trans.avail       0\n",
              "Fuel.tank.capacity    0\n",
              "Passengers            0\n",
              "Length                0\n",
              "Wheelbase             0\n",
              "Width                 0\n",
              "Turn.circle           0\n",
              "Rear.seat.room        0\n",
              "Luggage.room          0\n",
              "Weight                0\n",
              "Origin                0\n",
              "Make                  0\n",
              "dtype: int64"
            ]
          },
          "execution_count": 51,
          "metadata": {},
          "output_type": "execute_result"
        }
      ],
      "source": [
        "df.isnull().sum()"
      ]
    },
    {
      "cell_type": "markdown",
      "metadata": {
        "id": "M41P0rMKZPHK"
      },
      "source": [
        "# Analyse Data\n",
        "unique() <br>\n",
        "value_counts() <br>\n"
      ]
    },
    {
      "cell_type": "markdown",
      "metadata": {
        "id": "C6TVmKkaZaeB"
      },
      "source": [
        "# Libraries for Data Visualization\n",
        "import seaborn as sns <br>\n",
        "import matplotlib.pyplot as plt\n"
      ]
    },
    {
      "cell_type": "code",
      "execution_count": 52,
      "metadata": {
        "id": "zyc1IglQWIQE"
      },
      "outputs": [],
      "source": [
        "import seaborn as sns\n",
        "import matplotlib.pyplot as plt"
      ]
    },
    {
      "cell_type": "markdown",
      "metadata": {
        "id": "ee7bad5d"
      },
      "source": [
        "# Univariate - Categorical Variable\n",
        "Bar Chart"
      ]
    },
    {
      "cell_type": "code",
      "execution_count": 53,
      "metadata": {
        "colab": {
          "base_uri": "https://localhost:8080/"
        },
        "id": "REAC0P0YWrrh",
        "outputId": "dcb8cc9f-70a7-449b-a23f-75081f025642"
      },
      "outputs": [
        {
          "data": {
            "text/plain": [
              "['Manufacturer',\n",
              " 'Model',\n",
              " 'Type',\n",
              " 'AirBags',\n",
              " 'DriveTrain',\n",
              " 'Cylinders',\n",
              " 'Man.trans.avail',\n",
              " 'Origin',\n",
              " 'Make']"
            ]
          },
          "execution_count": 53,
          "metadata": {},
          "output_type": "execute_result"
        }
      ],
      "source": [
        "cat"
      ]
    },
    {
      "cell_type": "code",
      "execution_count": 54,
      "metadata": {
        "colab": {
          "base_uri": "https://localhost:8080/",
          "height": 333
        },
        "id": "b8a9f01d",
        "outputId": "d79db94d-d4df-48c7-e2b0-007b8e5eaf67"
      },
      "outputs": [
        {
          "data": {
            "image/png": "[encoded data removed]",
            "text/plain": [
              "<Figure size 500x300 with 1 Axes>"
            ]
          },
          "metadata": {},
          "output_type": "display_data"
        }
      ],
      "source": [
        "# Let's consider 'Type' as a categorical variable.\n",
        "plt.figure(figsize=(5,3))\n",
        "sns.countplot(x='Type',data=df)\n",
        "plt.xlabel(\"Type of Vehicle\")\n",
        "plt.ylabel(\"Frequency\")\n",
        "plt.title(\"Countplot of Type of Vehicle\")\n",
        "plt.show()"
      ]
    },
    {
      "cell_type": "code",
      "execution_count": 55,
      "metadata": {
        "colab": {
          "base_uri": "https://localhost:8080/",
          "height": 333
        },
        "id": "Ssi5RukoXbdX",
        "outputId": "fe6729e5-df2e-477f-c545-cf3db9ab5831"
      },
      "outputs": [
        {
          "data": {
            "image/png": "[encoded data removed]",
            "text/plain": [
              "<Figure size 500x300 with 1 Axes>"
            ]
          },
          "metadata": {},
          "output_type": "display_data"
        }
      ],
      "source": [
        "plt.figure(figsize=(5,3))\n",
        "sns.countplot(x='AirBags',data=df)\n",
        "plt.xlabel(\"Type of AirBags\")\n",
        "plt.ylabel(\"Frequency\")\n",
        "plt.title(\"Countplot of AirBags\")\n",
        "plt.show()"
      ]
    },
    {
      "cell_type": "markdown",
      "metadata": {
        "id": "65a51cd4"
      },
      "source": [
        "# Univariate - Categorical Variable\n",
        "Pie Chart"
      ]
    },
    {
      "cell_type": "code",
      "execution_count": 56,
      "metadata": {
        "colab": {
          "base_uri": "https://localhost:8080/",
          "height": 406
        },
        "id": "ca674959",
        "outputId": "699728b4-c794-4311-9b57-c84b77d2f792"
      },
      "outputs": [
        {
          "data": {
            "image/png": "[encoded data removed]",
            "text/plain": [
              "<Figure size 640x480 with 1 Axes>"
            ]
          },
          "metadata": {},
          "output_type": "display_data"
        }
      ],
      "source": [
        "ovc=df['Origin'].value_counts()\n",
        "plt.pie(ovc,labels=ovc.index,autopct='%d%%')\n",
        "plt.show()"
      ]
    },
    {
      "cell_type": "markdown",
      "metadata": {
        "id": "1ecb8c12"
      },
      "source": [
        "# Univariate - Categorical Variable\n",
        "Count plot"
      ]
    },
    {
      "cell_type": "code",
      "execution_count": null,
      "metadata": {
        "id": "0ebcb8d3"
      },
      "outputs": [],
      "source": []
    },
    {
      "cell_type": "markdown",
      "metadata": {
        "id": "04e0dc28"
      },
      "source": [
        "# Univariate - Numeric Variable\n",
        "Histogram"
      ]
    },
    {
      "cell_type": "code",
      "execution_count": 57,
      "metadata": {
        "colab": {
          "base_uri": "https://localhost:8080/",
          "height": 452
        },
        "id": "11dc654c",
        "outputId": "49a43f2c-0fa2-4815-e0d9-421ac9c851b6"
      },
      "outputs": [
        {
          "data": {
            "image/png": "[encoded data removed]",
            "text/plain": [
              "<Figure size 640x480 with 1 Axes>"
            ]
          },
          "metadata": {},
          "output_type": "display_data"
        }
      ],
      "source": [
        "plt.hist(x='Price',data=df,edgecolor='black')\n",
        "plt.title('Histogram of Prices of Vehicle')\n",
        "plt.show()"
      ]
    },
    {
      "cell_type": "markdown",
      "metadata": {
        "id": "34412ea6"
      },
      "source": [
        "# Bivariate Analysis\n",
        "## continuous vs continous\n",
        "### Scatter Plot"
      ]
    },
    {
      "cell_type": "code",
      "execution_count": 58,
      "metadata": {
        "colab": {
          "base_uri": "https://localhost:8080/",
          "height": 466
        },
        "id": "f48a832d",
        "outputId": "7efa9b7b-f255-4e90-9fea-c0f08e4b9b3e"
      },
      "outputs": [
        {
          "data": {
            "text/plain": [
              "Text(0, 0.5, 'HorsePower')"
            ]
          },
          "execution_count": 58,
          "metadata": {},
          "output_type": "execute_result"
        },
        {
          "data": {
            "image/png": "[encoded data removed]",
            "text/plain": [
              "<Figure size 640x480 with 1 Axes>"
            ]
          },
          "metadata": {},
          "output_type": "display_data"
        }
      ],
      "source": [
        "plt.scatter(x='Price',y='Horsepower',data=df)\n",
        "plt.xlabel(\"Price\")\n",
        "plt.ylabel(\"HorsePower\")"
      ]
    },
    {
      "cell_type": "code",
      "execution_count": 59,
      "metadata": {
        "colab": {
          "base_uri": "https://localhost:8080/"
        },
        "id": "7qmxF6hfZ7PA",
        "outputId": "0f20c168-a59b-4c47-f3d0-ea90808b407b"
      },
      "outputs": [
        {
          "data": {
            "text/plain": [
              "['id',\n",
              " 'Min.Price',\n",
              " 'Price',\n",
              " 'Max.Price',\n",
              " 'MPG.city',\n",
              " 'MPG.highway',\n",
              " 'EngineSize',\n",
              " 'Horsepower',\n",
              " 'RPM',\n",
              " 'Rev.per.mile',\n",
              " 'Fuel.tank.capacity',\n",
              " 'Passengers',\n",
              " 'Length',\n",
              " 'Wheelbase',\n",
              " 'Width',\n",
              " 'Turn.circle',\n",
              " 'Rear.seat.room',\n",
              " 'Luggage.room',\n",
              " 'Weight']"
            ]
          },
          "execution_count": 59,
          "metadata": {},
          "output_type": "execute_result"
        }
      ],
      "source": [
        "con"
      ]
    },
    {
      "cell_type": "markdown",
      "metadata": {
        "id": "46f5f408"
      },
      "source": [
        "# Correlation\n"
      ]
    },
    {
      "cell_type": "code",
      "execution_count": 60,
      "metadata": {
        "colab": {
          "base_uri": "https://localhost:8080/",
          "height": 174
        },
        "id": "efd2d8c1",
        "outputId": "4b321666-5f87-4af6-9acd-379d55ac3517"
      },
      "outputs": [
        {
          "data": {
            "text/html": [
              "<div>\n",
              "<style scoped>\n",
              "    .dataframe tbody tr th:only-of-type {\n",
              "        vertical-align: middle;\n",
              "    }\n",
              "\n",
              "    .dataframe tbody tr th {\n",
              "        vertical-align: top;\n",
              "    }\n",
              "\n",
              "    .dataframe thead th {\n",
              "        text-align: right;\n",
              "    }\n",
              "</style>\n",
              "<table border=\"1\" class=\"dataframe\">\n",
              "  <thead>\n",
              "    <tr style=\"text-align: right;\">\n",
              "      <th></th>\n",
              "      <th>Price</th>\n",
              "      <th>Horsepower</th>\n",
              "      <th>EngineSize</th>\n",
              "      <th>MPG.city</th>\n",
              "    </tr>\n",
              "  </thead>\n",
              "  <tbody>\n",
              "    <tr>\n",
              "      <th>Price</th>\n",
              "      <td>1.000000</td>\n",
              "      <td>0.788218</td>\n",
              "      <td>0.597425</td>\n",
              "      <td>-0.594562</td>\n",
              "    </tr>\n",
              "    <tr>\n",
              "      <th>Horsepower</th>\n",
              "      <td>0.788218</td>\n",
              "      <td>1.000000</td>\n",
              "      <td>0.732120</td>\n",
              "      <td>-0.672636</td>\n",
              "    </tr>\n",
              "    <tr>\n",
              "      <th>EngineSize</th>\n",
              "      <td>0.597425</td>\n",
              "      <td>0.732120</td>\n",
              "      <td>1.000000</td>\n",
              "      <td>-0.710003</td>\n",
              "    </tr>\n",
              "    <tr>\n",
              "      <th>MPG.city</th>\n",
              "      <td>-0.594562</td>\n",
              "      <td>-0.672636</td>\n",
              "      <td>-0.710003</td>\n",
              "      <td>1.000000</td>\n",
              "    </tr>\n",
              "  </tbody>\n",
              "</table>\n",
              "</div>"
            ],
            "text/plain": [
              "               Price  Horsepower  EngineSize  MPG.city\n",
              "Price       1.000000    0.788218    0.597425 -0.594562\n",
              "Horsepower  0.788218    1.000000    0.732120 -0.672636\n",
              "EngineSize  0.597425    0.732120    1.000000 -0.710003\n",
              "MPG.city   -0.594562   -0.672636   -0.710003  1.000000"
            ]
          },
          "execution_count": 60,
          "metadata": {},
          "output_type": "execute_result"
        }
      ],
      "source": [
        "df[['Price','Horsepower','EngineSize','MPG.city']].corr()"
      ]
    },
    {
      "cell_type": "code",
      "execution_count": 61,
      "metadata": {
        "id": "T5l9oX58aKtI"
      },
      "outputs": [],
      "source": [
        "# positive correlation : as one value increases other increases too\n",
        "# negative correlation : as one value increases other decreases\n",
        "# no correlation"
      ]
    },
    {
      "cell_type": "markdown",
      "metadata": {
        "id": "bb4d6f90"
      },
      "source": [
        "# Categorical vs. Continuous Analysis:\n",
        "Box Plot"
      ]
    },
    {
      "cell_type": "code",
      "execution_count": 62,
      "metadata": {
        "colab": {
          "base_uri": "https://localhost:8080/",
          "height": 466
        },
        "id": "6d6f3586",
        "outputId": "622259f4-ea84-4920-da25-dc1062c8b2ee"
      },
      "outputs": [
        {
          "data": {
            "text/plain": [
              "<Axes: xlabel='Type', ylabel='Price'>"
            ]
          },
          "execution_count": 62,
          "metadata": {},
          "output_type": "execute_result"
        },
        {
          "data": {
            "image/png": "[encoded data removed]",
            "text/plain": [
              "<Figure size 640x480 with 1 Axes>"
            ]
          },
          "metadata": {},
          "output_type": "display_data"
        }
      ],
      "source": [
        "sns.boxplot(data=df,x='Type',y='Price')"
      ]
    },
    {
      "cell_type": "markdown",
      "metadata": {
        "id": "0da37fd8"
      },
      "source": [
        "# Categorical vs Categorical\n",
        "Cross Tab , Heatmap"
      ]
    },
    {
      "cell_type": "code",
      "execution_count": 63,
      "metadata": {
        "colab": {
          "base_uri": "https://localhost:8080/"
        },
        "id": "-eWONtE8ddPR",
        "outputId": "0b145c8c-4763-401f-9cc1-14748606e143"
      },
      "outputs": [
        {
          "data": {
            "text/plain": [
              "['Manufacturer',\n",
              " 'Model',\n",
              " 'Type',\n",
              " 'AirBags',\n",
              " 'DriveTrain',\n",
              " 'Cylinders',\n",
              " 'Man.trans.avail',\n",
              " 'Origin',\n",
              " 'Make']"
            ]
          },
          "execution_count": 63,
          "metadata": {},
          "output_type": "execute_result"
        }
      ],
      "source": [
        "cat"
      ]
    },
    {
      "cell_type": "code",
      "execution_count": 64,
      "metadata": {
        "colab": {
          "base_uri": "https://localhost:8080/",
          "height": 143
        },
        "id": "xlIYR5R6dADc",
        "outputId": "cb2c2854-7377-4e0c-a3ee-709d034a3842"
      },
      "outputs": [
        {
          "data": {
            "text/html": [
              "<div>\n",
              "<style scoped>\n",
              "    .dataframe tbody tr th:only-of-type {\n",
              "        vertical-align: middle;\n",
              "    }\n",
              "\n",
              "    .dataframe tbody tr th {\n",
              "        vertical-align: top;\n",
              "    }\n",
              "\n",
              "    .dataframe thead th {\n",
              "        text-align: right;\n",
              "    }\n",
              "</style>\n",
              "<table border=\"1\" class=\"dataframe\">\n",
              "  <thead>\n",
              "    <tr style=\"text-align: right;\">\n",
              "      <th>Origin</th>\n",
              "      <th>USA</th>\n",
              "      <th>non-USA</th>\n",
              "    </tr>\n",
              "    <tr>\n",
              "      <th>AirBags</th>\n",
              "      <th></th>\n",
              "      <th></th>\n",
              "    </tr>\n",
              "  </thead>\n",
              "  <tbody>\n",
              "    <tr>\n",
              "      <th>Driver &amp; Passenger</th>\n",
              "      <td>8</td>\n",
              "      <td>6</td>\n",
              "    </tr>\n",
              "    <tr>\n",
              "      <th>Driver only</th>\n",
              "      <td>40</td>\n",
              "      <td>39</td>\n",
              "    </tr>\n",
              "  </tbody>\n",
              "</table>\n",
              "</div>"
            ],
            "text/plain": [
              "Origin              USA  non-USA\n",
              "AirBags                         \n",
              "Driver & Passenger    8        6\n",
              "Driver only          40       39"
            ]
          },
          "execution_count": 64,
          "metadata": {},
          "output_type": "execute_result"
        }
      ],
      "source": [
        "pd.crosstab(df['AirBags'],df['Origin'])"
      ]
    },
    {
      "cell_type": "code",
      "execution_count": 65,
      "metadata": {
        "colab": {
          "base_uri": "https://localhost:8080/",
          "height": 143
        },
        "id": "47lmG4wVdcgu",
        "outputId": "9a1ccd50-6f07-4d24-e0cc-99b24273827d"
      },
      "outputs": [
        {
          "data": {
            "text/html": [
              "<div>\n",
              "<style scoped>\n",
              "    .dataframe tbody tr th:only-of-type {\n",
              "        vertical-align: middle;\n",
              "    }\n",
              "\n",
              "    .dataframe tbody tr th {\n",
              "        vertical-align: top;\n",
              "    }\n",
              "\n",
              "    .dataframe thead th {\n",
              "        text-align: right;\n",
              "    }\n",
              "</style>\n",
              "<table border=\"1\" class=\"dataframe\">\n",
              "  <thead>\n",
              "    <tr style=\"text-align: right;\">\n",
              "      <th>Type</th>\n",
              "      <th>Compact</th>\n",
              "      <th>Large</th>\n",
              "      <th>Midsize</th>\n",
              "      <th>Small</th>\n",
              "      <th>Sporty</th>\n",
              "      <th>Van</th>\n",
              "    </tr>\n",
              "    <tr>\n",
              "      <th>AirBags</th>\n",
              "      <th></th>\n",
              "      <th></th>\n",
              "      <th></th>\n",
              "      <th></th>\n",
              "      <th></th>\n",
              "      <th></th>\n",
              "    </tr>\n",
              "  </thead>\n",
              "  <tbody>\n",
              "    <tr>\n",
              "      <th>Driver &amp; Passenger</th>\n",
              "      <td>2</td>\n",
              "      <td>3</td>\n",
              "      <td>6</td>\n",
              "      <td>0</td>\n",
              "      <td>3</td>\n",
              "      <td>0</td>\n",
              "    </tr>\n",
              "    <tr>\n",
              "      <th>Driver only</th>\n",
              "      <td>14</td>\n",
              "      <td>8</td>\n",
              "      <td>16</td>\n",
              "      <td>21</td>\n",
              "      <td>11</td>\n",
              "      <td>9</td>\n",
              "    </tr>\n",
              "  </tbody>\n",
              "</table>\n",
              "</div>"
            ],
            "text/plain": [
              "Type                Compact  Large  Midsize  Small  Sporty  Van\n",
              "AirBags                                                        \n",
              "Driver & Passenger        2      3        6      0       3    0\n",
              "Driver only              14      8       16     21      11    9"
            ]
          },
          "execution_count": 65,
          "metadata": {},
          "output_type": "execute_result"
        }
      ],
      "source": [
        "ctb=pd.crosstab(df['AirBags'],df['Type'])\n",
        "ctb"
      ]
    },
    {
      "cell_type": "code",
      "execution_count": 66,
      "metadata": {
        "colab": {
          "base_uri": "https://localhost:8080/",
          "height": 466
        },
        "id": "aQ8TkGn2dsN3",
        "outputId": "6e0a94ac-b75a-4187-ad46-bd6189adf1c8"
      },
      "outputs": [
        {
          "data": {
            "text/plain": [
              "<Axes: xlabel='Type', ylabel='AirBags'>"
            ]
          },
          "execution_count": 66,
          "metadata": {},
          "output_type": "execute_result"
        },
        {
          "data": {
            "image/png": "[encoded data removed]",
            "text/plain": [
              "<Figure size 640x480 with 2 Axes>"
            ]
          },
          "metadata": {},
          "output_type": "display_data"
        }
      ],
      "source": [
        "sns.heatmap(ctb,annot=True)"
      ]
    },
    {
      "cell_type": "markdown",
      "metadata": {
        "id": "67a646ec"
      },
      "source": [
        "# Multivariate Analysis\n",
        "pairplot"
      ]
    },
    {
      "cell_type": "code",
      "execution_count": 67,
      "metadata": {
        "colab": {
          "base_uri": "https://localhost:8080/",
          "height": 285
        },
        "id": "890b6427",
        "outputId": "dd80c24f-6525-42c8-fd29-159a58d2e04d"
      },
      "outputs": [
        {
          "data": {
            "text/plain": [
              "<seaborn.axisgrid.PairGrid at 0x19c191c5fd0>"
            ]
          },
          "execution_count": 67,
          "metadata": {},
          "output_type": "execute_result"
        },
        {
          "data": {
            "image/png": "[encoded data removed]",
            "text/plain": [
              "<Figure size 1000x250 with 4 Axes>"
            ]
          },
          "metadata": {},
          "output_type": "display_data"
        }
      ],
      "source": [
        "sns.pairplot(y_vars='Price',x_vars=['Horsepower','EngineSize','MPG.highway','Weight'],data=df)"
      ]
    },
    {
      "cell_type": "markdown",
      "metadata": {
        "id": "TBTuyf-XfrvQ"
      },
      "source": []
    }
  ],
  "metadata": {
    "colab": {
      "provenance": []
    },
    "kernelspec": {
      "display_name": "Python 3",
      "name": "python3"
    },
    "language_info": {
      "codemirror_mode": {
        "name": "ipython",
        "version": 3
      },
      "file_extension": ".py",
      "mimetype": "text/x-python",
      "name": "python",
      "nbconvert_exporter": "python",
      "pygments_lexer": "ipython3",
      "version": "3.13.2"
    }
  },
  "nbformat": 4,
  "nbformat_minor": 0
}
